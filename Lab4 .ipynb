{
 "cells": [
  {
   "cell_type": "markdown",
   "metadata": {},
   "source": [
    "Implement all parts of the UnorderedList and Node classes as described in the textbook. You will use the definition of Node to implement a singly-linked list inside the UnorderedList class.\n",
    "\n",
    "UnorderedList:\n",
    "Use the methods given in the book (using the textbook source code is allowed):\n",
    "__init__(self, init_data)\n",
    "add(self, item)\n",
    "remove(self, item)\n",
    "search(self, item)\n",
    "is_empty(self)\n",
    "length(self)\n",
    "Slides have it named as “size”, the book more aptly calls it “length”\n",
    "Methods you need to write yourself:\n",
    "append(self, item)\n",
    "insert(self, pos, item)\n",
    "index(self, item)\n",
    "pop(self)\n",
    "pop(self, pos)\n",
    "print(self)\n",
    "Print the items in the list\n",
    "Node: Use the methods given in the book:\n",
    "__init__(self, init_data)\n",
    "get_data(self)\n",
    "get_next(self)\n",
    "set_data(self, new_data)\n",
    "set_next(self, new_next)\n",
    "__repr__(self)\n",
    "Instances of this class should propery represent itself if evaluated (test this using repr() function)\n",
    "Test your class by:\n",
    "Inserting some items.\n",
    "Printing list items.\n",
    "Removing some items, then printing again.\n",
    "Insert a few more items print the list items.\n",
    "Other tests of your own design."
   ]
  },
  {
   "cell_type": "code",
   "execution_count": 127,
   "metadata": {
    "collapsed": true
   },
   "outputs": [],
   "source": [
    "class Node:\n",
    "    \n",
    "    def __init__(self,initdata):\n",
    "        \n",
    "        self.data = initdata \n",
    "        self.next = None\n",
    "      \n",
    "    \n",
    "    def __str__(self):\n",
    "        \n",
    "        return \"Node: \" + str(self.data)\n",
    "    \n",
    "    def __repr__(self):\n",
    "        \n",
    "        return \"Node({0})\".format(self.data)\n",
    "    \n",
    "    def getData(self):\n",
    "        \n",
    "        return self.data\n",
    "    \n",
    "    def getNext(self):\n",
    "        \n",
    "        return self.next\n",
    "    \n",
    "    def setData(self,newdata):\n",
    "        self.data = newdata\n",
    "        \n",
    "    def setNext(self,newnext):\n",
    "        self.next = newnext"
   ]
  },
  {
   "cell_type": "code",
   "execution_count": 128,
   "metadata": {
    "collapsed": true
   },
   "outputs": [],
   "source": [
    "class UnorderedList:\n",
    "\n",
    "    def __init__(self):\n",
    "        \n",
    "        self.head = None\n",
    "        \n",
    "    def isEmpty(self):\n",
    "        return self.head == None\n",
    "    \n",
    "    def add(self,item):\n",
    "        temp = Node(item)\n",
    "        temp.setNext(self.head)\n",
    "        self.head = temp\n",
    "        \n",
    "        \n",
    "    def length(self):\n",
    "        current = self.head\n",
    "        count = 0\n",
    "        while current != None:\n",
    "            count = count + 1\n",
    "            current = current.getNext()\n",
    "        return count\n",
    "    \n",
    "    def search(self,item):  #it will be same as size len\n",
    "        current = self.head\n",
    "        found = False\n",
    "        while current != None and not found:\n",
    "            if current.getData() == item:\n",
    "                found = True\n",
    "                break\n",
    "            else:\n",
    "                current = current.getNext()\n",
    "        \n",
    "        return found\n",
    "        \n",
    "    def remove(self,item):\n",
    "        current = self.head\n",
    "        previous = None\n",
    "        found = False\n",
    "        while not found:\n",
    "            if current.getData() == item:\n",
    "                found = True\n",
    "            \n",
    "            else:\n",
    "                previous = current\n",
    "                current = current.getNext()\n",
    "        if previous == None:\n",
    "            self.head = current.getNext()\n",
    "        \n",
    "        else:\n",
    "            previous.setNext(current.getNext())\n",
    "            \n",
    "    def append(self,item):\n",
    "        \n",
    "        current = self.head\n",
    "        while current.getNext() != None:\n",
    "            current = current.getNext()\n",
    "        temp = Node(item)\n",
    "        temp.setNext(current.getNext())\n",
    "        current.setNext(temp)\n",
    "        \n",
    "    def insert(self, pos, item):\n",
    "        temp = Node(item)\n",
    "        current = self.head\n",
    "        prev= None\n",
    "        index = 0\n",
    "        \n",
    "        while current != None and index < pos:\n",
    "            index += 1\n",
    "            prev = current\n",
    "            current = current.getNext()\n",
    "        if current == self.head:\n",
    "            temp.setNext(self.head)\n",
    "            self.head = temp\n",
    "        else:\n",
    "            prev.setNext(temp)\n",
    "            temp.setNext(current)\n",
    "        print('Item added at Pos: ', pos)\n",
    "            \n",
    "            \n",
    "    def index(self,item):\n",
    "        \n",
    "        index = 1\n",
    "        current = self.head\n",
    "        found = False\n",
    "        while current != None:\n",
    "            if current.getData() == item:\n",
    "                found = True\n",
    "                return index\n",
    "            else:\n",
    "                current = current.getNext()\n",
    "                index = index + 1\n",
    "                \n",
    "        return 'item not found'\n",
    "    \n",
    "    def pop(self):\n",
    "        temp = self.head\n",
    "        self.head = self.head.getNext()\n",
    "        return temp\n",
    "    \n",
    "    def pop_pos(self, index):\n",
    "        prev = None\n",
    "        current = self.head\n",
    "        count = 0\n",
    "        \n",
    "        while current != None and count < index:\n",
    "            prev = current\n",
    "            current = current.getNext()\n",
    "            count = count + 1\n",
    "        if prev == None:\n",
    "            self.head = current.getNext()\n",
    "        else:\n",
    "            prev.next = current.getNext()\n",
    "        return current\n",
    "    \n",
    "    \n",
    "    def print_list(self):\n",
    "        current = llist.head\n",
    "        while current != None:\n",
    "            print(current.getData(),'-> ', end='')\n",
    "            current = current.getNext()\n",
    "        print('None')\n",
    "\n"
   ]
  },
  {
   "cell_type": "markdown",
   "metadata": {},
   "source": [
    "Creating an Unordered List and adding some items:"
   ]
  },
  {
   "cell_type": "code",
   "execution_count": 129,
   "metadata": {},
   "outputs": [
    {
     "name": "stdout",
     "output_type": "stream",
     "text": [
      "5 -> 4 -> 3 -> 2 -> 1 -> None\n"
     ]
    }
   ],
   "source": [
    "llist = UnorderedList()\n",
    "\n",
    "llist.add(1)\n",
    "llist.add(2)\n",
    "llist.add(3)\n",
    "llist.add(4)\n",
    "llist.add(5)\n",
    "\n",
    "llist.print_list()"
   ]
  },
  {
   "cell_type": "markdown",
   "metadata": {},
   "source": [
    "Testing: Inserting items to the linked list:"
   ]
  },
  {
   "cell_type": "code",
   "execution_count": 130,
   "metadata": {},
   "outputs": [
    {
     "name": "stdout",
     "output_type": "stream",
     "text": [
      "Item added at Pos:  0\n",
      "6 -> 5 -> 4 -> 3 -> 2 -> 1 -> None\n",
      "Item added at Pos:  3\n",
      "6 -> 5 -> 4 -> 66 -> 3 -> 2 -> 1 -> None\n",
      "Item added at Pos:  7\n",
      "6 -> 5 -> 4 -> 66 -> 3 -> 2 -> 1 -> 88 -> None\n"
     ]
    }
   ],
   "source": [
    "# Insert item to the begining\n",
    "llist.insert(0, 6)\n",
    "llist.print_list()\n",
    "\n",
    "# Insert item in the middle of the list\n",
    "llist.insert(3, 66)\n",
    "llist.print_list()\n",
    "# Insert item at the end of the list\n",
    "llist.insert(7, 88)\n",
    "llist.print_list()\n"
   ]
  },
  {
   "cell_type": "markdown",
   "metadata": {},
   "source": [
    "Testing: Printing list items:"
   ]
  },
  {
   "cell_type": "code",
   "execution_count": 131,
   "metadata": {},
   "outputs": [
    {
     "name": "stdout",
     "output_type": "stream",
     "text": [
      "6 -> 5 -> 4 -> 66 -> 3 -> 2 -> 1 -> 88 -> None\n"
     ]
    }
   ],
   "source": [
    "llist.print_list()"
   ]
  },
  {
   "cell_type": "markdown",
   "metadata": {},
   "source": [
    "Testing: Removing some items, then printing again:"
   ]
  },
  {
   "cell_type": "code",
   "execution_count": 132,
   "metadata": {},
   "outputs": [
    {
     "name": "stdout",
     "output_type": "stream",
     "text": [
      "5 -> 4 -> 66 -> 2 -> 1 -> None\n"
     ]
    }
   ],
   "source": [
    "# Removing item from the end of the list\n",
    "llist.remove(88)\n",
    "\n",
    "# Removing item at the begining of list\n",
    "llist.remove(6)\n",
    "\n",
    "# Removing item from the middle\n",
    "llist.remove(3)\n",
    "\n",
    "#Printing results\n",
    "llist.print_list()"
   ]
  },
  {
   "cell_type": "markdown",
   "metadata": {},
   "source": [
    "Testing: Insert a few more items print the list items."
   ]
  },
  {
   "cell_type": "code",
   "execution_count": 133,
   "metadata": {},
   "outputs": [
    {
     "name": "stdout",
     "output_type": "stream",
     "text": [
      "Item added at Pos:  3\n",
      "5 -> 4 -> 66 -> 77 -> 2 -> 1 -> None\n"
     ]
    }
   ],
   "source": [
    "# Inserting new item at index 3\n",
    "llist.insert(3, 77)\n",
    "\n",
    "llist.print_list()"
   ]
  },
  {
   "cell_type": "markdown",
   "metadata": {},
   "source": [
    "Testing: Append item to the end of the list:"
   ]
  },
  {
   "cell_type": "code",
   "execution_count": 134,
   "metadata": {},
   "outputs": [
    {
     "name": "stdout",
     "output_type": "stream",
     "text": [
      "5 -> 4 -> 66 -> 77 -> 2 -> 1 -> 68 -> None\n"
     ]
    }
   ],
   "source": [
    "# Appending item to the end of the list\n",
    "llist.append(68)\n",
    "\n",
    "llist.print_list()"
   ]
  },
  {
   "cell_type": "markdown",
   "metadata": {},
   "source": [
    "Testing: Search for an item in the list:"
   ]
  },
  {
   "cell_type": "code",
   "execution_count": 135,
   "metadata": {
    "scrolled": true
   },
   "outputs": [
    {
     "data": {
      "text/plain": [
       "True"
      ]
     },
     "execution_count": 135,
     "metadata": {},
     "output_type": "execute_result"
    }
   ],
   "source": [
    "#Searching for item 77\n",
    "llist.search(77)"
   ]
  },
  {
   "cell_type": "markdown",
   "metadata": {},
   "source": [
    "Testing: Search for an item that is not in the list:"
   ]
  },
  {
   "cell_type": "code",
   "execution_count": 136,
   "metadata": {
    "scrolled": true
   },
   "outputs": [
    {
     "data": {
      "text/plain": [
       "False"
      ]
     },
     "execution_count": 136,
     "metadata": {},
     "output_type": "execute_result"
    }
   ],
   "source": [
    "llist.search(100)"
   ]
  },
  {
   "cell_type": "markdown",
   "metadata": {},
   "source": [
    "Testing: Pop item from the list"
   ]
  },
  {
   "cell_type": "code",
   "execution_count": 137,
   "metadata": {},
   "outputs": [
    {
     "data": {
      "text/plain": [
       "Node(5)"
      ]
     },
     "execution_count": 137,
     "metadata": {},
     "output_type": "execute_result"
    }
   ],
   "source": [
    "llist.pop()"
   ]
  },
  {
   "cell_type": "markdown",
   "metadata": {},
   "source": [
    "Testing: Pop item at position"
   ]
  },
  {
   "cell_type": "code",
   "execution_count": 138,
   "metadata": {},
   "outputs": [
    {
     "data": {
      "text/plain": [
       "Node(2)"
      ]
     },
     "execution_count": 138,
     "metadata": {},
     "output_type": "execute_result"
    }
   ],
   "source": [
    "llist.pop_pos(3)"
   ]
  },
  {
   "cell_type": "code",
   "execution_count": null,
   "metadata": {
    "collapsed": true
   },
   "outputs": [],
   "source": []
  },
  {
   "cell_type": "code",
   "execution_count": null,
   "metadata": {
    "collapsed": true
   },
   "outputs": [],
   "source": []
  }
 ],
 "metadata": {
  "kernelspec": {
   "display_name": "Python 3",
   "language": "python",
   "name": "python3"
  },
  "language_info": {
   "codemirror_mode": {
    "name": "ipython",
    "version": 3
   },
   "file_extension": ".py",
   "mimetype": "text/x-python",
   "name": "python",
   "nbconvert_exporter": "python",
   "pygments_lexer": "ipython3",
   "version": "3.6.1"
  }
 },
 "nbformat": 4,
 "nbformat_minor": 2
}
