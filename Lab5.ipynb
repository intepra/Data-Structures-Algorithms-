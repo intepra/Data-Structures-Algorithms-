{
 "cells": [
  {
   "cell_type": "markdown",
   "metadata": {},
   "source": [
    "To implement the length method, we counted the number of nodes in the list. An alternative strategy would be to store the number of nodes in the list as an additional piece of data in the head of the list. Modify the UnorderedList class to include this information and rewrite the length method.\n",
    "\n",
    "You can determine the size of a linked-list using some optimization as described in the problem. Modify your UnorderedList class, particularly the length() method to use this better idea.\n",
    "\n",
    "Additionally, implement __len__ (reference) in your UnorderedList class. Test instances of this class using the len() built-in function."
   ]
  },
  {
   "cell_type": "code",
   "execution_count": 41,
   "metadata": {
    "collapsed": true
   },
   "outputs": [],
   "source": [
    "class Node:\n",
    "    \n",
    "    def __init__(self,initdata):\n",
    "        \n",
    "        self.data = initdata \n",
    "        self.next = None\n",
    "      \n",
    "    \n",
    "    def __str__(self):\n",
    "        \n",
    "        return \"Node: \" + str(self.data)\n",
    "    \n",
    "    def __repr__(self):\n",
    "        \n",
    "        return \"Node({0})\".format(self.data)\n",
    "    \n",
    "    def getData(self):\n",
    "        \n",
    "        return self.data\n",
    "    \n",
    "    def getNext(self):\n",
    "        \n",
    "        return self.next\n",
    "    \n",
    "    def setData(self,newdata):\n",
    "        self.data = newdata\n",
    "        \n",
    "    def setNext(self,newnext):\n",
    "        self.next = newnext"
   ]
  },
  {
   "cell_type": "code",
   "execution_count": 42,
   "metadata": {
    "collapsed": true
   },
   "outputs": [],
   "source": [
    "class UnorderedList:\n",
    "\n",
    "    def __init__(self):\n",
    "        \n",
    "        self.head = None\n",
    "        self.length = 0\n",
    "        \n",
    "    def isEmpty(self):\n",
    "        return self.head == None\n",
    "    \n",
    "    def add(self,item):\n",
    "        temp = Node(item)\n",
    "        temp.setNext(self.head)\n",
    "        self.head = temp\n",
    "        self.length +=1\n",
    "        \n",
    "        \n",
    "    def length_list(self):\n",
    "        return 'List length %s' % self.length\n",
    "    \n",
    "    \n",
    "    def __len__(self):\n",
    "        return self.length\n",
    "    \n",
    "    def search(self,item):  \n",
    "        current = self.head\n",
    "        found = False\n",
    "        while current != None and not found:\n",
    "            if current.getData() == item:\n",
    "                found = True\n",
    "                break\n",
    "            else:\n",
    "                current = current.getNext()\n",
    "        \n",
    "        return found\n",
    "        \n",
    "    def remove(self,item):\n",
    "        current = self.head\n",
    "        previous = None\n",
    "        found = False\n",
    "        while not found:\n",
    "            if current.getData() == item:\n",
    "                found = True\n",
    "            \n",
    "            else:\n",
    "                previous = current\n",
    "                current = current.getNext()\n",
    "        if previous == None:\n",
    "            self.head = current.getNext()\n",
    "        \n",
    "        else:\n",
    "            previous.setNext(current.getNext())\n",
    "        \n",
    "        self.length -= 1\n",
    "\n",
    "    def append(self,item):\n",
    "        \n",
    "        current = self.head\n",
    "        while current.getNext() != None:\n",
    "            current = current.getNext()\n",
    "        temp = Node(item)\n",
    "        temp.setNext(current.getNext())\n",
    "        current.setNext(temp)\n",
    "        self.length += 1\n",
    "        \n",
    "    def insert(self, pos, item):\n",
    "        temp = Node(item)\n",
    "        current = self.head\n",
    "        prev= None\n",
    "        index = 0\n",
    "        \n",
    "        while current != None and index < pos:\n",
    "            index += 1\n",
    "            prev = current\n",
    "            current = current.getNext()\n",
    "        if current == self.head:\n",
    "            temp.setNext(self.head)\n",
    "            self.head = temp\n",
    "        else:\n",
    "            prev.setNext(temp)\n",
    "            temp.setNext(current)\n",
    "        print('Item added at Pos: ', pos)\n",
    "        self.length += 1\n",
    "            \n",
    "            \n",
    "    def index(self,item):\n",
    "        \n",
    "        index = 1\n",
    "        current = self.head\n",
    "        found = False\n",
    "        while current != None:\n",
    "            if current.getData() == item:\n",
    "                found = True\n",
    "                return index\n",
    "            else:\n",
    "                current = current.getNext()\n",
    "                index = index + 1\n",
    "                \n",
    "        return 'item not found'\n",
    "    \n",
    "    def pop(self):\n",
    "        temp = self.head\n",
    "        self.head = self.head.getNext()\n",
    "        self.length -= 1\n",
    "        return temp\n",
    "    \n",
    "    def pop_pos(self, index):\n",
    "        prev = None\n",
    "        current = self.head\n",
    "        count = 0\n",
    "        \n",
    "        while current != None and count < index:\n",
    "            prev = current\n",
    "            current = current.getNext()\n",
    "            count = count + 1\n",
    "        if prev == None:\n",
    "            self.head = current.getNext()\n",
    "        else:\n",
    "            prev.next = current.getNext()\n",
    "        self.length -= 1\n",
    "        return current\n",
    "    \n",
    "    \n",
    "    def print_list(self):\n",
    "        current = llist.head\n",
    "        while current != None:\n",
    "            print(current.getData(),'-> ', end='')\n",
    "            current = current.getNext()\n",
    "        print('None')\n",
    "\n"
   ]
  },
  {
   "cell_type": "markdown",
   "metadata": {},
   "source": [
    "Testing: Modified length in UnorderedList before and after adding items"
   ]
  },
  {
   "cell_type": "code",
   "execution_count": 43,
   "metadata": {},
   "outputs": [
    {
     "data": {
      "text/plain": [
       "'List length 3'"
      ]
     },
     "execution_count": 43,
     "metadata": {},
     "output_type": "execute_result"
    }
   ],
   "source": [
    "llist = UnorderedList()\n",
    "# Length of an empty list\n",
    "llist.length_list()\n",
    "\n",
    "llist.add(1)\n",
    "llist.add(2)\n",
    "llist.add(3)\n",
    "\n",
    "# Length of list after adding 3 items\n",
    "llist.length_list()\n"
   ]
  },
  {
   "cell_type": "markdown",
   "metadata": {},
   "source": [
    "Testing: Adding Len() function"
   ]
  },
  {
   "cell_type": "code",
   "execution_count": 44,
   "metadata": {},
   "outputs": [
    {
     "data": {
      "text/plain": [
       "4"
      ]
     },
     "execution_count": 44,
     "metadata": {},
     "output_type": "execute_result"
    }
   ],
   "source": [
    "llist.add(4)\n",
    "len(llist)"
   ]
  },
  {
   "cell_type": "code",
   "execution_count": null,
   "metadata": {
    "collapsed": true
   },
   "outputs": [],
   "source": []
  }
 ],
 "metadata": {
  "kernelspec": {
   "display_name": "Python 3",
   "language": "python",
   "name": "python3"
  },
  "language_info": {
   "codemirror_mode": {
    "name": "ipython",
    "version": 3
   },
   "file_extension": ".py",
   "mimetype": "text/x-python",
   "name": "python",
   "nbconvert_exporter": "python",
   "pygments_lexer": "ipython3",
   "version": "3.6.1"
  }
 },
 "nbformat": 4,
 "nbformat_minor": 2
}
