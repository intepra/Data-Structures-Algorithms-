{
 "cells": [
  {
   "cell_type": "markdown",
   "metadata": {},
   "source": [
    "# Using the BinaryHeap class, implement a new class called PriorityQueue. Your PriorityQueue class should implement the constructor, plus the enqueue and dequeue methods."
   ]
  },
  {
   "cell_type": "code",
   "execution_count": 63,
   "metadata": {
    "collapsed": true
   },
   "outputs": [],
   "source": [
    "class BinaryHeap():\n",
    "    \n",
    "    def __init__(self):\n",
    "        self.heaplist = [0]\n",
    "        self.current_size = 0\n",
    "        \n",
    "    def perc_up(self, i): \n",
    "        while i//2 > 0:\n",
    "            if self.heaplist[i] < self.heaplist[i//2]:\n",
    "                self.heaplist[i], self.heaplist[i//2] = self.heaplist[i//2], self.heaplist[i]\n",
    "            i = i //2\n",
    "        \n",
    "    def insert(self, k):\n",
    "        self.heaplist.append(k)  \n",
    "        self.current_size += 1  #increase tree size by 1\n",
    "        self.perc_up(self.current_size)  \n",
    "        \n",
    "    def perc_down(self, i):\n",
    "        while (i * 2) <= self.current_size:\n",
    "                mc = self.min_child(i)\n",
    "                if self.heaplist[i] > self.heaplist[mc]:\n",
    "                    self.heaplist[i], self.heaplist[mc] = self.heaplist[mc], self.heaplist[i]\n",
    "                i = mc\n",
    "    def min_child(self, i):\n",
    "        if i * 2 + 1 > self.current_size:\n",
    "            return i * 2\n",
    "        else:\n",
    "            if self.heaplist[i*2] < self.heaplist[i*2+1]:\n",
    "                return i * 2\n",
    "            else:\n",
    "                return i * 2 + 1\n",
    "            \n",
    "    def del_min(self): # delete and return minimum value\n",
    "        retval = self.heaplist[1] # retval is short for return val\n",
    "        self.heaplist[1] = self.heaplist[self.current_size]\n",
    "        self.current_size -= 1 # now have 1 less item in the tree\n",
    "        self.heaplist.pop()\n",
    "        self.perc_down(1)\n",
    "        return retval\n",
    "    \n",
    "    def build_heap(self, alist): # given list of values to build the heap\n",
    "        i = len(alist) // 2\n",
    "        self.current_size = len(alist)\n",
    "        self.heaplist = [0] + alist[:]\n",
    "        while i > 0:\n",
    "            self.perc_down(i)\n",
    "            i -= 1        "
   ]
  },
  {
   "cell_type": "code",
   "execution_count": 64,
   "metadata": {},
   "outputs": [],
   "source": [
    "#store tasks using a partial ordering based on priority\n",
    "#ensure highest priority task at the head of queue\n",
    "class PriorityQueue():\n",
    "    \n",
    "    def __init__(self):\n",
    "        self.bh = BinaryHeap()\n",
    "        \n",
    "\n",
    "#enqueue: insert an item on a priority queue, the new item may move all the way to the front   \n",
    "#a priority queue as highest priority is min element\n",
    "\n",
    "    def enqueue(self, item):\n",
    "        self.bh.insert(item)\n",
    "        \n",
    "#dequeue an item by removing it from the front \n",
    "#find the current min element (highest priority) in queue, deletes it, and returns it\n",
    "\n",
    "    def dequeue(self):\n",
    "        return self.bh.del_min()\n",
    "        #return self.items.pop()\n",
    "        "
   ]
  },
  {
   "cell_type": "code",
   "execution_count": 70,
   "metadata": {},
   "outputs": [],
   "source": [
    "#testing\n",
    "Q = PriorityQueue()\n",
    "Q.enqueue(2)\n",
    "Q.enqueue(11)\n",
    "Q.enqueue(4)\n",
    "Q.enqueue(5)"
   ]
  },
  {
   "cell_type": "code",
   "execution_count": 71,
   "metadata": {},
   "outputs": [
    {
     "data": {
      "text/plain": [
       "2"
      ]
     },
     "execution_count": 71,
     "metadata": {},
     "output_type": "execute_result"
    }
   ],
   "source": [
    "Q.dequeue()"
   ]
  },
  {
   "cell_type": "code",
   "execution_count": 72,
   "metadata": {},
   "outputs": [
    {
     "data": {
      "text/plain": [
       "4"
      ]
     },
     "execution_count": 72,
     "metadata": {},
     "output_type": "execute_result"
    }
   ],
   "source": [
    "Q.dequeue()"
   ]
  },
  {
   "cell_type": "code",
   "execution_count": 73,
   "metadata": {},
   "outputs": [
    {
     "data": {
      "text/plain": [
       "5"
      ]
     },
     "execution_count": 73,
     "metadata": {},
     "output_type": "execute_result"
    }
   ],
   "source": [
    "Q.dequeue()"
   ]
  },
  {
   "cell_type": "markdown",
   "metadata": {},
   "source": [
    "A priority queue acts like a queue in that you dequeue an item by removing it from the front. However, in a priority queue the logical order of items inside a queue is determined by their priority. The highest priority items are at the front of the queue and the lowest priority items are at the back. Thus when you enqueue an item on a priority queue, the new item may move all the way to the front. Above, I considered the min item in the head and its the highest priority so I'm dequeue and enqueue the highest priority item using binary heap which is the min item and could be find at the head. A binary heap will allow us both enqueue and dequeue items in O(logn). A negatiave perspective about this code: priority Q does not take into consideration the case of dequeueing from empty priority queue. "
   ]
  },
  {
   "cell_type": "code",
   "execution_count": null,
   "metadata": {
    "collapsed": true
   },
   "outputs": [],
   "source": []
  }
 ],
 "metadata": {
  "kernelspec": {
   "display_name": "Python 3",
   "language": "python",
   "name": "python3"
  },
  "language_info": {
   "codemirror_mode": {
    "name": "ipython",
    "version": 3
   },
   "file_extension": ".py",
   "mimetype": "text/x-python",
   "name": "python",
   "nbconvert_exporter": "python",
   "pygments_lexer": "ipython3",
   "version": "3.6.1"
  }
 },
 "nbformat": 4,
 "nbformat_minor": 2
}
