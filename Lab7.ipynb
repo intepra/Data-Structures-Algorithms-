{
 "cells": [
  {
   "cell_type": "markdown",
   "metadata": {},
   "source": [
    "Write a recursive function to reverse a list"
   ]
  },
  {
   "cell_type": "code",
   "execution_count": 9,
   "metadata": {},
   "outputs": [
    {
     "name": "stdout",
     "output_type": "stream",
     "text": [
      "[10, 2, 4, 6]\n",
      "['o', 'l', 'l', 'e', 'h']\n"
     ]
    }
   ],
   "source": [
    "def revList(alist):\n",
    "    # case base when the length of the list equals to one, the recursion will stop\n",
    "    if len(alist) == 1:\n",
    "        return alist\n",
    "    else:\n",
    "        # the function is calling itself recusrively until it reaches to the case base\n",
    "        return revList(alist[1:]) + [alist[0]]\n",
    "#testing    \n",
    "print(revList([6,4,2,10]))\n",
    "\n",
    "print(revList(['h', 'e', 'l', 'l', 'o']))"
   ]
  },
  {
   "cell_type": "code",
   "execution_count": 10,
   "metadata": {},
   "outputs": [
    {
     "name": "stdout",
     "output_type": "stream",
     "text": [
      "['Test2', 'Test1']\n"
     ]
    }
   ],
   "source": [
    "#testing\n",
    "print(revList([\"Test1\",\"Test2\"]))"
   ]
  },
  {
   "cell_type": "markdown",
   "metadata": {},
   "source": [
    "Explanatory Text: the positive aspect of this program is avoiding the use of the loop in order to call revList for that element and subsequently reaching the last element."
   ]
  },
  {
   "cell_type": "code",
   "execution_count": null,
   "metadata": {
    "collapsed": true
   },
   "outputs": [],
   "source": []
  },
  {
   "cell_type": "code",
   "execution_count": null,
   "metadata": {
    "collapsed": true
   },
   "outputs": [],
   "source": []
  }
 ],
 "metadata": {
  "kernelspec": {
   "display_name": "Python 3",
   "language": "python",
   "name": "python3"
  },
  "language_info": {
   "codemirror_mode": {
    "name": "ipython",
    "version": 3
   },
   "file_extension": ".py",
   "mimetype": "text/x-python",
   "name": "python",
   "nbconvert_exporter": "python",
   "pygments_lexer": "ipython3",
   "version": "3.6.1"
  }
 },
 "nbformat": 4,
 "nbformat_minor": 2
}
