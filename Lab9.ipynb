{
 "cells": [
  {
   "cell_type": "markdown",
   "metadata": {},
   "source": [
    "Pascal’s triangle is a number triangle with numbers arranged in staggered rows such that\n",
    "\n",
    "anr=n!r!(n−r)!\n",
    "anr=n!r!(n−r)!\n",
    "This equation is the equation for a binomial coefficient. You can build Pascal’s triangle by adding the two numbers that are diagonally above a number in the triangle. An example of Pascal’s triangle is shown below.\n",
    "\n",
    "        1\n",
    "      1   1\n",
    "    1   2   1\n",
    "  1   3   3   1\n",
    "1   4   6   4   1\n",
    "Write a program that prints out Pascal’s triangle. Your program should accept a parameter that tells how many rows of the triangle to print.\n",
    "\n"
   ]
  },
  {
   "cell_type": "markdown",
   "metadata": {},
   "source": [
    "- The function pascal_triangle takes n as input for the number of rows to generate\n",
    "    * Checks for the entered value if it's not an integer and print an error\n",
    "    * Checks if the entered value is a negative integer and print an error\n",
    "    * If entered value is '0' print nothing\n",
    "    * If entered value is '1' print '1'\n",
    "    * If entered valus is greater than '1' we calculate result for previous row in triangle which in turn recursivley calculate values for all previous rows\n",
    "    * to calculate numbers for a new row we add up the two numbers of the same index and index+1 from previous row (list) after adding '1' to both ends of the list\n",
    "    * returned result is a list of rows (list of lists of elements)"
   ]
  },
  {
   "cell_type": "code",
   "execution_count": 5,
   "metadata": {
    "collapsed": true
   },
   "outputs": [],
   "source": [
    "def pascal_triangle(n):\n",
    "    if type(n) != int:\n",
    "        raise TypeError(\"n must be an integer\")\n",
    "    if n < 0:\n",
    "        raise ValueError(\"n must be a positive integer\")\n",
    "    if n == 0:\n",
    "        return [] #base case   \n",
    "    elif n == 1:\n",
    "        return [[1]] #base case\n",
    "    else:\n",
    "        new_row = [1]\n",
    "        result = pascal_triangle(n-1)\n",
    "        last_row = result[-1]\n",
    "        for i in range(len(last_row)-1):\n",
    "            new_row.append(last_row[i] + last_row[i+1])\n",
    "        new_row += [1]\n",
    "        result.append(new_row)\n",
    "    return result"
   ]
  },
  {
   "cell_type": "markdown",
   "metadata": {},
   "source": [
    "- print_triangle function prints the returned list of lists result from the recursive function 'pascal_triangle'\n",
    "    * present the output in a triangle shape\n",
    "    * tracks empty spaces needed for each row to form a triangle\n",
    "    * loop on each row in the list and each element in row"
   ]
  },
  {
   "cell_type": "code",
   "execution_count": 64,
   "metadata": {
    "collapsed": true
   },
   "outputs": [],
   "source": [
    "def print_triangle(n):\n",
    "    rows = pascal_triangle(n)\n",
    "\n",
    "    spaces = n -1\n",
    "    for row in rows:\n",
    "        printer = \"\"\n",
    "        printer += \"  \" * spaces\n",
    "        print(printer, end=\"\")\n",
    "        for element in row:\n",
    "            print(element,\"  \", end=\"\")\n",
    "        spaces -= 1\n",
    "        print()   "
   ]
  },
  {
   "cell_type": "code",
   "execution_count": 71,
   "metadata": {
    "scrolled": true
   },
   "outputs": [
    {
     "name": "stdout",
     "output_type": "stream",
     "text": [
      "        1   \n",
      "      1   1   \n",
      "    1   2   1   \n",
      "  1   3   3   1   \n",
      "1   4   6   4   1   \n"
     ]
    }
   ],
   "source": [
    "print_triangle(5)"
   ]
  },
  {
   "cell_type": "code",
   "execution_count": null,
   "metadata": {
    "collapsed": true
   },
   "outputs": [],
   "source": []
  }
 ],
 "metadata": {
  "kernelspec": {
   "display_name": "Python 3",
   "language": "python",
   "name": "python3"
  },
  "language_info": {
   "codemirror_mode": {
    "name": "ipython",
    "version": 3
   },
   "file_extension": ".py",
   "mimetype": "text/x-python",
   "name": "python",
   "nbconvert_exporter": "python",
   "pygments_lexer": "ipython3",
   "version": "3.6.1"
  }
 },
 "nbformat": 4,
 "nbformat_minor": 2
}
