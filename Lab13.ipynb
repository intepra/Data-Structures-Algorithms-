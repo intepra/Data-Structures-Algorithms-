{
 "cells": [
  {
   "cell_type": "markdown",
   "metadata": {},
   "source": [
    "Modify the buildParseTree and evaluate functions to handle boolean statements (and, or, and not). Remember that “not” is a unary operator, so this will complicate your code somewhat."
   ]
  },
  {
   "cell_type": "code",
   "execution_count": 1,
   "metadata": {
    "collapsed": true
   },
   "outputs": [],
   "source": [
    "#implemeting a stack LIFO: LAST IN, FIRST OUT \n",
    "class Stack:\n",
    "    \n",
    "    def __init__(self):\n",
    "        self.items = []\n",
    "    #check if the stack is empty and return true or false\n",
    "    def isEmpty(self):\n",
    "        return self.items == []\n",
    "    #push, adds an item to the stack  \n",
    "    def push(self, item):\n",
    "        self.items.append(item)\n",
    "    #pop, removes the most recently added item from stack\n",
    "    def pop(self):\n",
    "        return self.items.pop()\n",
    "    #returns the top item from the stack but does not remove it\n",
    "    def peek(self):\n",
    "        return self.items[len(self.items)-1]\n",
    "    #return the size of the stack: the numbers of items\n",
    "    def size(self):\n",
    "        return len(self.items)"
   ]
  },
  {
   "cell_type": "code",
   "execution_count": 2,
   "metadata": {
    "collapsed": true
   },
   "outputs": [],
   "source": [
    "class BinaryTree:\n",
    "    # returns a tree, root node has no children yet\n",
    "    #    where r is the value (key) for that node\n",
    "    def __init__(self, root_obj):\n",
    "        self.key = root_obj\n",
    "        self.left_child = None\n",
    "        self.right_child = None  \n",
    "\n",
    "    def insert_left(self, new_val):\n",
    "        # if no left child, create new node instance\n",
    "        if self.left_child == None:\n",
    "            self.left_child = BinaryTree(new_val)\n",
    "        # if left child already exists\n",
    "        else:\n",
    "            t = BinaryTree(new_val)\n",
    "            # make current node child of new node\n",
    "            t.left_child = self.left_child\n",
    "            # set t.left-child as t\n",
    "            self.left_child = t\n",
    "\n",
    "    def insert_right(self, new_val):\n",
    "        # if no right child, create new node instance\n",
    "        if self.right_child == None:\n",
    "            self.right_child = BinaryTree(new_val)\n",
    "        # if right child already exists\n",
    "        else:\n",
    "            t = BinaryTree(new_val)\n",
    "            # make current node child of new node\n",
    "            t.right_child = self.right_child\n",
    "            # set t.right-child as t\n",
    "            self.right_child = t\n",
    "\n",
    "    def get_root_val(self):\n",
    "        return self.key\n",
    "\n",
    "    def set_root_val(self, obj):\n",
    "        self.key = obj\n",
    "    \n",
    "    def get_left_child(self):\n",
    "        return self.left_child\n",
    "    \n",
    "    def get_right_child(self):\n",
    "        return self.right_child\n",
    "    \n",
    "    def __repr__(self):\n",
    "        return str(self.key)"
   ]
  },
  {
   "cell_type": "markdown",
   "metadata": {},
   "source": [
    "In modifieded build_parse_tree the operation 'and' 'or' behave in the way as arithmetic operations. However when the operation is 'not' which is a unary operation, we solve this issue by inserting an empty left child with key set to 'None'\n",
    "and setting the current_node on the right child as it will hold the value of the following operand.\n",
    "\n",
    "When we traverse the tree, we ignore the nodes that holds no value (like 'None'). So in the case where we have 'not' operation, we always ignore the left child."
   ]
  },
  {
   "cell_type": "code",
   "execution_count": 3,
   "metadata": {
    "collapsed": true
   },
   "outputs": [],
   "source": [
    "def build_parse_tree(fp_exp):\n",
    "    fp_list = fp_exp.split()\n",
    "    p_stack = Stack()\n",
    "    e_tree = BinaryTree('')\n",
    "    p_stack.push(e_tree)\n",
    "    current_tree = e_tree\n",
    "\n",
    "    for i in fp_list:\n",
    "        \n",
    "        # if input is a '('\n",
    "        if i == '(':\n",
    "            # add new node as left child of current node\n",
    "            current_tree.insert_left('')\n",
    "            # push current tree to stack\n",
    "            p_stack.push(current_tree)\n",
    "            # descend to left child\n",
    "            current_tree = current_tree.get_left_child()\n",
    "        \n",
    "        # if input is a  number\n",
    "        elif i not in ['and', 'or', ')', 'not']:\n",
    "            # set root val of current node to the boolean equivalent of the string\n",
    "            # if string is 'True we set the value to boolean True\n",
    "            if i == 'True':\n",
    "                current_tree.set_root_val(True)\n",
    "            # otherwise we set the value to boolean False\n",
    "            else:\n",
    "                current_tree.set_root_val(False)\n",
    "            # set parent = stack.pop()\n",
    "            parent = p_stack.pop()\n",
    "            # return to parent\n",
    "            current_tree = parent\n",
    "        \n",
    "        # if input is operation 'and, 'or'\n",
    "        elif i in ['and', 'or']:\n",
    "            # set root val of current_tree to the operator\n",
    "            current_tree.set_root_val(i)\n",
    "            # add new node as right child of current node\n",
    "            current_tree.insert_right('')\n",
    "            # push current tree to stack\n",
    "            p_stack.push(current_tree)\n",
    "            # descend to right child (set ct to rc)\n",
    "            current_tree = current_tree.get_right_child()            \n",
    "        \n",
    "        # if input is operation 'not'\n",
    "        elif i == 'not':\n",
    "            # set root val of current_tree to the operator \n",
    "            current_tree.set_root_val(i)\n",
    "            # push current tree to stack\n",
    "            p_stack.push(current_tree)\n",
    "            # Not is unary operation so we add a left child that has a None value \n",
    "            # that will be ignored in later flow\n",
    "            current_tree.insert_left(None)\n",
    "            # Add new node as right child of current node\n",
    "            current_tree.insert_right('')\n",
    "            # descend to right child \n",
    "            current_tree = current_tree.get_right_child()\n",
    "        \n",
    "        # if input is a ')'\n",
    "        elif i == ')':\n",
    "            # go to parent of current node\n",
    "            current_tree = p_stack.pop()\n",
    "\n",
    "        # in case strange character appears\n",
    "        else:\n",
    "            raise ValueError\n",
    "    return e_tree"
   ]
  },
  {
   "cell_type": "markdown",
   "metadata": {},
   "source": [
    "Inorder recursive traversal, helps to print the tree with the correct order of the operands and operation in between. Inorder prints the left side first, operation, and right side"
   ]
  },
  {
   "cell_type": "code",
   "execution_count": 4,
   "metadata": {
    "collapsed": true
   },
   "outputs": [],
   "source": [
    "def inorder(tree):\n",
    "    if tree:\n",
    "        inorder(tree.get_left_child())\n",
    "        print(tree.get_root_val(), end=\" \")\n",
    "        inorder(tree.get_right_child())"
   ]
  },
  {
   "cell_type": "code",
   "execution_count": 5,
   "metadata": {
    "collapsed": true
   },
   "outputs": [],
   "source": [
    "pt = build_parse_tree(\" ( ( True and False ) or not False ) \")  # every token needs a space around i"
   ]
  },
  {
   "cell_type": "code",
   "execution_count": 6,
   "metadata": {},
   "outputs": [
    {
     "name": "stdout",
     "output_type": "stream",
     "text": [
      "True and False or None not False "
     ]
    }
   ],
   "source": [
    "inorder(pt)"
   ]
  },
  {
   "cell_type": "code",
   "execution_count": 7,
   "metadata": {
    "collapsed": true
   },
   "outputs": [],
   "source": [
    "pt = build_parse_tree(\" ( not ( True and False ) ) \")  # every token needs a space around i"
   ]
  },
  {
   "cell_type": "code",
   "execution_count": 8,
   "metadata": {},
   "outputs": [
    {
     "name": "stdout",
     "output_type": "stream",
     "text": [
      "None not True and False  "
     ]
    }
   ],
   "source": [
    "inorder(pt)"
   ]
  },
  {
   "cell_type": "code",
   "execution_count": 9,
   "metadata": {
    "collapsed": true
   },
   "outputs": [],
   "source": [
    "pt = build_parse_tree(\" ( not True ) and ( not False ) \")  # every token needs a space around i"
   ]
  },
  {
   "cell_type": "code",
   "execution_count": 10,
   "metadata": {},
   "outputs": [
    {
     "name": "stdout",
     "output_type": "stream",
     "text": [
      "None not True and None not False  "
     ]
    }
   ],
   "source": [
    "inorder(pt)"
   ]
  },
  {
   "cell_type": "code",
   "execution_count": 11,
   "metadata": {
    "collapsed": true
   },
   "outputs": [],
   "source": [
    "pt = build_parse_tree(\" ( not True ) \")  # every token needs a space around i"
   ]
  },
  {
   "cell_type": "code",
   "execution_count": 12,
   "metadata": {},
   "outputs": [
    {
     "name": "stdout",
     "output_type": "stream",
     "text": [
      "None not True  "
     ]
    }
   ],
   "source": [
    "inorder(pt)"
   ]
  },
  {
   "cell_type": "code",
   "execution_count": 13,
   "metadata": {
    "collapsed": true
   },
   "outputs": [],
   "source": [
    "pt = build_parse_tree(\" ( ( True and False ) or not False ) \")  # every token needs a space around i"
   ]
  },
  {
   "cell_type": "code",
   "execution_count": 14,
   "metadata": {},
   "outputs": [
    {
     "name": "stdout",
     "output_type": "stream",
     "text": [
      "True and False or None not False "
     ]
    }
   ],
   "source": [
    "inorder(pt)"
   ]
  },
  {
   "cell_type": "markdown",
   "metadata": {},
   "source": [
    "Evaluate funtion takes a tree as an input and has four main flows:\n",
    "    1- when we have both left and child nodes to the current tree root node, we recursively evaulate both left and right sides with the operation in between which is the tree root node value\n",
    "    2- In the case where we don't have a right child (None) and the tree only has a left child\n",
    "        * if the current tree node value holds operation then we recursively evaulate only the left side\n",
    "        * otherwise if the current tree node holds no value, then we set the left child as the new current tree node (as there's no importance to evaluate with no operation)\n",
    "    3- If the current tree node has the operation 'not', here we recursively evaluate the the right side only, as in 'not' operation we don't have a left child\n",
    "    4- When the current tree node is a leaf node we only return the value of it (True or False)"
   ]
  },
  {
   "cell_type": "code",
   "execution_count": 15,
   "metadata": {
    "collapsed": true
   },
   "outputs": [],
   "source": [
    "import operator\n",
    "\n",
    "# ( True or False )\n",
    "def evaluate2(parse_tree):\n",
    "    # operator dictionary\n",
    "    # operator.add is a Fx that adds X, Y (operator.add(X, Y))\n",
    "    opers = {\"and\": operator.and_, \"or\": operator.or_, \"not\": operator.not_}\n",
    "\n",
    "    left_c = parse_tree.get_left_child()\n",
    "    right_c = parse_tree.get_right_child()\n",
    "    \n",
    "    # checking scenario when there's left child but the key value is None\n",
    "    # which is usually the case when we have a Not operation where the left\n",
    "    # child is created with None value\n",
    "    if (left_c is not None) and (left_c.get_root_val() == None):\n",
    "        left_c = None\n",
    "\n",
    "    # if current node has children (is not a leaf)\n",
    "    # here we evaluate the left and right with the operation in between\n",
    "    # this flow works when operation is 'or' ' and'\n",
    "    if left_c and right_c:\n",
    "        # look up operator (root val of current node) and assign to 'fn'\n",
    "        fn = opers[parse_tree.get_root_val()]\n",
    "        # executes fn on the left and right children (operands)\n",
    "        return fn(evaluate2(left_c), evaluate2(right_c))  # two recursive calls to evaluate left and right subtrees\n",
    "    \n",
    "    # this flow is when we don't have a right child and only left child exists\n",
    "    # in the tree. if the parent node is operation we only evaluate the left side\n",
    "    # otherwise if the node value is not operation then we set the left child as\n",
    "    # the parent because there's no purpose to evaluate with an empty right side.\n",
    "    elif left_c:\n",
    "        if parse_tree.get_root_val() in [\"and\", \"or\", \"not\"]:\n",
    "            fn = opers[parse_tree.get_root_val()]\n",
    "            return fn(evaluate2(left_c))\n",
    "        else:\n",
    "            parse_tree = left_c\n",
    "            return evaluate2(parse_tree)\n",
    "        \n",
    "    # if the node has key set to operation 'not' we apply not on the recursion of the right child only\n",
    "    # because 'Not' node doesn't have any left child to evaluate with\n",
    "    elif parse_tree.get_root_val() == 'not':\n",
    "        fn = opers[parse_tree.get_root_val()]\n",
    "        return fn(evaluate2(right_c))\n",
    "    \n",
    "    # case where recusion ends # if lef_c is None then False and true is still a false so go to base case\n",
    "    else:\n",
    "        return parse_tree.get_root_val()"
   ]
  },
  {
   "cell_type": "code",
   "execution_count": 16,
   "metadata": {
    "collapsed": true
   },
   "outputs": [],
   "source": [
    "pt = build_parse_tree(\" ( not False ) \")  # every token needs a space around i"
   ]
  },
  {
   "cell_type": "code",
   "execution_count": 17,
   "metadata": {},
   "outputs": [
    {
     "name": "stdout",
     "output_type": "stream",
     "text": [
      "True\n"
     ]
    }
   ],
   "source": [
    "print(evaluate2(pt))"
   ]
  },
  {
   "cell_type": "code",
   "execution_count": 18,
   "metadata": {
    "collapsed": true
   },
   "outputs": [],
   "source": [
    "pt = build_parse_tree(\" ( not True ) \")  # every token needs a space around i"
   ]
  },
  {
   "cell_type": "code",
   "execution_count": 19,
   "metadata": {},
   "outputs": [
    {
     "name": "stdout",
     "output_type": "stream",
     "text": [
      "False\n"
     ]
    }
   ],
   "source": [
    "print(evaluate2(pt))"
   ]
  },
  {
   "cell_type": "code",
   "execution_count": 20,
   "metadata": {
    "collapsed": true
   },
   "outputs": [],
   "source": [
    "pt = build_parse_tree(\" ( not True ) and ( not False) \")  # every token needs a space around i"
   ]
  },
  {
   "cell_type": "code",
   "execution_count": 21,
   "metadata": {},
   "outputs": [
    {
     "name": "stdout",
     "output_type": "stream",
     "text": [
      "False\n"
     ]
    }
   ],
   "source": [
    "print(evaluate2(pt))"
   ]
  },
  {
   "cell_type": "code",
   "execution_count": 22,
   "metadata": {
    "collapsed": true
   },
   "outputs": [],
   "source": [
    "pt = build_parse_tree(\" ( ( True and False ) or not False ) \")  # every token needs a space around i"
   ]
  },
  {
   "cell_type": "code",
   "execution_count": 23,
   "metadata": {},
   "outputs": [
    {
     "name": "stdout",
     "output_type": "stream",
     "text": [
      "True\n"
     ]
    }
   ],
   "source": [
    "print(evaluate2(pt))"
   ]
  },
  {
   "cell_type": "code",
   "execution_count": null,
   "metadata": {
    "collapsed": true
   },
   "outputs": [],
   "source": []
  },
  {
   "cell_type": "code",
   "execution_count": null,
   "metadata": {
    "collapsed": true
   },
   "outputs": [],
   "source": []
  }
 ],
 "metadata": {
  "kernelspec": {
   "display_name": "Python 3",
   "language": "python",
   "name": "python3"
  },
  "language_info": {
   "codemirror_mode": {
    "name": "ipython",
    "version": 3
   },
   "file_extension": ".py",
   "mimetype": "text/x-python",
   "name": "python",
   "nbconvert_exporter": "python",
   "pygments_lexer": "ipython3",
   "version": "3.6.1"
  }
 },
 "nbformat": 4,
 "nbformat_minor": 2
}
