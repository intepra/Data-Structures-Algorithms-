{
 "cells": [
  {
   "cell_type": "markdown",
   "metadata": {},
   "source": [
    "Implement quadratic probing as a rehash technique."
   ]
  },
  {
   "cell_type": "code",
   "execution_count": 44,
   "metadata": {},
   "outputs": [],
   "source": [
    "class HashTable:\n",
    "    def __init__(self):\n",
    "        \n",
    "        #set up the size, slots and data\n",
    "        self.size = 11\n",
    "        self.slots = [None] * self.size\n",
    "        self.data = [None] * self.size\n",
    "        \n",
    "        \"\"\"put(key,val) Add a new key-value pair to the map. \n",
    "If the key is already in the map then replace the old value with the new value.\"\"\"\n",
    "    def put(self,key,data):\n",
    "        #Get the hash value\n",
    "        hashvalue = self.hashfunction(key,len(self.slots))\n",
    "        #if slot is empty\n",
    "        if self.slots[hashvalue] == None:\n",
    "            self.slots[hashvalue] = key\n",
    "            self.data[hashvalue] = data\n",
    "        else:\n",
    "            #if key already exists, replace old value\n",
    "            if self.slots[hashvalue] == key:\n",
    "                self.data[hashvalue] = data\n",
    "            #otherwise, find the next avaliable slot using guadratic probing rehash\n",
    "            else: \n",
    "                col = 0\n",
    "                nextslot = self.rehash_quad(hashvalue, col, len(self.slots))\n",
    "                #Get the next slot (quadratic probing)\n",
    "                while self.slots[nextslot] != None and self.slots[nextslot] != key:\n",
    "                    col +=1\n",
    "                    nextslot = self.rehash_quad(hashvalue, col, len(self.slots))\n",
    "                #set new key, if none\n",
    "                if self.slots[nextslot] == None:\n",
    "                    self.slots[nextslot]=key\n",
    "                    self.data[nextslot]=data\n",
    "                else:\n",
    "                    self.data[nextslot] = data #replace\n",
    "\n",
    "        \n",
    "    def hashfunction(self,key,size):\n",
    "        #remainder method\n",
    "        return key%size\n",
    "    \n",
    "        \n",
    "    def rehash_quad(self, oldhash, collision, size):\n",
    "        #for finding next possible positions\n",
    "        return (oldhash + (collision**2)) % size\n",
    "       \n",
    "#      if H is occupied and not equal to k, search H+1, H+2^2, H+3^2\n",
    "#      increment += 1\n",
    "    \n",
    "    def get(self,key):\n",
    "        \n",
    "        #Getting items given a key\n",
    "        #set up variables for our search\n",
    "        startslot = self.hashfunction(key,len(self.slots))\n",
    "        \n",
    "        data = None\n",
    "        stop = False\n",
    "        found = False\n",
    "        position = startslot\n",
    "        \n",
    "        while self.slots[position] != None and not found and not stop:\n",
    "            if self.slots[position] == key:\n",
    "                found = True\n",
    "                data= self.data[position]\n",
    "            else:\n",
    "                position = self.rehash(position, len(self.slots))\n",
    "                if position == startslot:\n",
    "                    stop = True\n",
    "        return data\n",
    "\n",
    "    def __getitem__(self,key):\n",
    "        return self.get(key)\n",
    "\n",
    "    def __setitem__(self,key,data):\n",
    "        self.put(key,data)"
   ]
  },
  {
   "cell_type": "code",
   "execution_count": 45,
   "metadata": {
    "collapsed": true
   },
   "outputs": [],
   "source": [
    "#testing my hastable using keys that all have a \"0\" remainder and \n",
    "#see how they'll be rehased in the list using the quadratic probing rehash technique\n",
    "H=HashTable()\n",
    "H[77]=\"cat\"\n",
    "H[44]=\"dog\"\n",
    "H[55]=\"lion\"\n",
    "H[88]= \"monkey\"\n",
    "H[66] = \"elephent\""
   ]
  },
  {
   "cell_type": "code",
   "execution_count": 46,
   "metadata": {},
   "outputs": [
    {
     "name": "stdout",
     "output_type": "stream",
     "text": [
      "[77, 44, None, None, 55, 66, None, None, None, 88, None]\n",
      "['cat', 'dog', None, None, 'lion', 'elephent', None, None, None, 'monkey', None]\n"
     ]
    }
   ],
   "source": [
    "print(H.slots)\n",
    "print(H.data)"
   ]
  },
  {
   "cell_type": "code",
   "execution_count": null,
   "metadata": {
    "collapsed": true
   },
   "outputs": [],
   "source": []
  },
  {
   "cell_type": "code",
   "execution_count": null,
   "metadata": {
    "collapsed": true
   },
   "outputs": [],
   "source": []
  }
 ],
 "metadata": {
  "kernelspec": {
   "display_name": "Python 3",
   "language": "python",
   "name": "python3"
  },
  "language_info": {
   "codemirror_mode": {
    "name": "ipython",
    "version": 3
   },
   "file_extension": ".py",
   "mimetype": "text/x-python",
   "name": "python",
   "nbconvert_exporter": "python",
   "pygments_lexer": "ipython3",
   "version": "3.6.1"
  }
 },
 "nbformat": 4,
 "nbformat_minor": 2
}
