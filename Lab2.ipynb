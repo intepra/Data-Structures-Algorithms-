{
 "cells": [
  {
   "cell_type": "code",
   "execution_count": 18,
   "metadata": {},
   "outputs": [
    {
     "name": "stdout",
     "output_type": "stream",
     "text": [
      "100 loops, best of 3: 5.05 ms per loop\n"
     ]
    }
   ],
   "source": [
    "%%timeit\n",
    "#Make two lists of random 'data'\n",
    "import random \n",
    "\n",
    "arry1 = [random.random() for i in range(5000)]\n",
    "arry2 = [random.random() for i in range(5000)]\n",
    "\n",
    "#Create a simple dictionary of key:val pairs using these two lists\n",
    "d1 = dict(zip(arry1,arry2)) \n",
    "\n",
    "d_keys = list(d1.keys())\n",
    "d_keys = list(d1.keys()) \n",
    "\n",
    "#del d1[d_keys[0]]\n",
    "#print(d1)\n",
    "\n",
    "#print(arry1)\n",
    "del arry1[0]\n",
    "#print(arry1)   "
   ]
  },
  {
   "cell_type": "code",
   "execution_count": 19,
   "metadata": {},
   "outputs": [
    {
     "name": "stdout",
     "output_type": "stream",
     "text": [
      "100 loops, best of 3: 3.97 ms per loop\n"
     ]
    }
   ],
   "source": [
    "%%timeit\n",
    "#Make two lists of random 'data'\n",
    "import random \n",
    "\n",
    "arry1 = [random.random() for i in range(5000)]\n",
    "arry2 = [random.random() for i in range(5000)]\n",
    "\n",
    "#Create a simple dictionary of key:val pairs using these two lists\n",
    "d1 = dict(zip(arry1,arry2)) \n",
    "\n",
    "d_keys = list(d1.keys())\n",
    "d_keys = list(d1.keys()) \n",
    "\n",
    "del d1[d_keys[0]]\n",
    "#print(d1)\n",
    "\n",
    "#print(arry1)\n",
    "#del arry1[0]\n",
    "#print(arry1) "
   ]
  },
  {
   "cell_type": "code",
   "execution_count": null,
   "metadata": {
    "collapsed": true
   },
   "outputs": [],
   "source": []
  }
 ],
 "metadata": {
  "kernelspec": {
   "display_name": "Python 3",
   "language": "python",
   "name": "python3"
  },
  "language_info": {
   "codemirror_mode": {
    "name": "ipython",
    "version": 3
   },
   "file_extension": ".py",
   "mimetype": "text/x-python",
   "name": "python",
   "nbconvert_exporter": "python",
   "pygments_lexer": "ipython3",
   "version": "3.6.1"
  }
 },
 "nbformat": 4,
 "nbformat_minor": 2
}
