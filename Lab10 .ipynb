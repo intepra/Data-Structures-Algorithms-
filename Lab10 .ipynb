{
 "cells": [
  {
   "cell_type": "markdown",
   "metadata": {},
   "source": [
    "Implement the binary search using recursion without the slice operator. Recall that you will need to pass the list along with the starting and ending index values for the sublist. Generate a random, ordered list of integers and do a benchmark analysis."
   ]
  },
  {
   "cell_type": "code",
   "execution_count": 60,
   "metadata": {
    "collapsed": true
   },
   "outputs": [],
   "source": [
    "\"\"\"To do the recurisve binary search without slices so I had to do two functions,\n",
    "one inside the other\"\"\" \n",
    "#Implement the binary search using recursion without the slice operator\n",
    "# data MUST already be sorted \n",
    "def binary_search(item, alist):\n",
    "    def _binarySearch(item, first, last, alist):\n",
    "        #base case\n",
    "        if last < first:\n",
    "            return False\n",
    "        if last == first:\n",
    "            return alist[last] == item\n",
    "        mid = (first + last) // 2\n",
    "        if alist[mid] > item:\n",
    "            last = mid #recursive\n",
    "            return _binarySearch(item, first, last, alist)\n",
    "        elif alist[mid] < item:\n",
    "            first = mid + 1 #recusrive\n",
    "            return _binarySearch(item, first, last, alist)\n",
    "        else:\n",
    "            return alist[mid] == item\n",
    "\n",
    "    return _binarySearch(item, 0, len(alist) - 1, alist)"
   ]
  },
  {
   "cell_type": "code",
   "execution_count": 61,
   "metadata": {},
   "outputs": [
    {
     "name": "stdout",
     "output_type": "stream",
     "text": [
      "True\n"
     ]
    }
   ],
   "source": [
    "#creating a small list to test our function with nonexist item (2) in the list\n",
    "testlist = [0,1,2,8,14,17,19,21,34,50]\n",
    "print(binary_search(2,testlist ))"
   ]
  },
  {
   "cell_type": "code",
   "execution_count": 62,
   "metadata": {},
   "outputs": [
    {
     "name": "stdout",
     "output_type": "stream",
     "text": [
      "False\n"
     ]
    }
   ],
   "source": [
    "#testing the binary search if the element (12) is exist\n",
    "testlist = [0,1,2,8,14,17,19,21,34,50]\n",
    "print(binary_search(12,testlist ))"
   ]
  },
  {
   "cell_type": "code",
   "execution_count": 63,
   "metadata": {
    "collapsed": true
   },
   "outputs": [],
   "source": [
    "#Generate a random, ordered list of integers \n",
    "import random\n",
    "_max = 90_0000\n",
    "_range = range(0, _max, 10000) "
   ]
  },
  {
   "cell_type": "markdown",
   "metadata": {},
   "source": [
    "One way we can measure the execution time for the function is to do a benchmark analysis. This means that we will track the actual time required for the program to compute its result. In Python and Jupyter, we can benchmark a function by the magic cell %timeit with respect to the system we are using."
   ]
  },
  {
   "cell_type": "code",
   "execution_count": 64,
   "metadata": {},
   "outputs": [
    {
     "name": "stdout",
     "output_type": "stream",
     "text": [
      "1 loop, best of 3: 689 ms per loop\n"
     ]
    }
   ],
   "source": [
    "%%timeit \n",
    "nums = random.choices(range(_max), k=_max) \n",
    "binary_search(90_0000, nums) #benchmark analysis"
   ]
  },
  {
   "cell_type": "code",
   "execution_count": 65,
   "metadata": {
    "collapsed": true
   },
   "outputs": [],
   "source": [
    "#we could compare this recusrive function to the one with slices and see the timeit\n",
    "def binarySearch(alist, item):\n",
    "    if len(alist) == 0:\n",
    "        return False\n",
    "    else:\n",
    "        midpoint = len(alist)//2\n",
    "        if alist[midpoint]==item:\n",
    "            return True\n",
    "        else:\n",
    "            if item<alist[midpoint]:\n",
    "                return binarySearch(alist[:midpoint],item)\n",
    "            else:\n",
    "                return binarySearch(alist[midpoint+1:],item)\n"
   ]
  },
  {
   "cell_type": "code",
   "execution_count": 66,
   "metadata": {},
   "outputs": [
    {
     "name": "stdout",
     "output_type": "stream",
     "text": [
      "True\n"
     ]
    }
   ],
   "source": [
    "#creating a small list to test our function with nonexist item (2) in the list\n",
    "testlist = [0,1,2,8,14,17,19,21,34,50]\n",
    "print(binary_search(2,testlist ))"
   ]
  },
  {
   "cell_type": "code",
   "execution_count": 67,
   "metadata": {},
   "outputs": [
    {
     "name": "stdout",
     "output_type": "stream",
     "text": [
      "False\n"
     ]
    }
   ],
   "source": [
    "#testing the binary search if the element (12) is exist\n",
    "testlist = [0,1,2,8,14,17,19,21,34,50]\n",
    "print(binary_search(12,testlist ))"
   ]
  },
  {
   "cell_type": "code",
   "execution_count": 68,
   "metadata": {
    "collapsed": true
   },
   "outputs": [],
   "source": [
    "#Generate a random, ordered list of integers \n",
    "import random\n",
    "_max = 90_0000\n",
    "_range = range(0, _max, 10000) "
   ]
  },
  {
   "cell_type": "code",
   "execution_count": 69,
   "metadata": {},
   "outputs": [
    {
     "name": "stdout",
     "output_type": "stream",
     "text": [
      "1 loop, best of 3: 709 ms per loop\n"
     ]
    }
   ],
   "source": [
    "%%timeit \n",
    "nums = random.choices(range(_max), k=_max) \n",
    "binarySearch(nums,90_0000) #benchmark analysis"
   ]
  },
  {
   "cell_type": "markdown",
   "metadata": {},
   "source": [
    "The time complexity for binary search is log⁡n. The maximum number of comparisons is logarithmic with respect to the number of items in the list. Therefore, the binary search is O(logn).\n",
    "In the recursive solution shown above, the recursive call,\n",
    "binarySearch(alist[:midpoint],item)\n",
    "uses the slice operator to create the left half of the list that is then passed to the next invocation. The analysis that we did above assumed that the slice operator takes constant time. However, we know that the slice operator in Python is actually O(k). This means that the binary search using slice will not perform in strict logarithmic time. This is why we passed the list along with the starting and ending indices. The indices can be calculated as comparsions = i --> approximate numbers of items left n/2^i. This means time complexity logn"
   ]
  },
  {
   "cell_type": "markdown",
   "metadata": {},
   "source": [
    "The limitation of my program that I could not find a way to return the result of my function to be boolens and I had to do the testings twice for existed item and non exist one because I could not print them out both in one cell so I had to show each of them separately. "
   ]
  },
  {
   "cell_type": "code",
   "execution_count": null,
   "metadata": {
    "collapsed": true
   },
   "outputs": [],
   "source": []
  },
  {
   "cell_type": "code",
   "execution_count": null,
   "metadata": {
    "collapsed": true
   },
   "outputs": [],
   "source": []
  }
 ],
 "metadata": {
  "kernelspec": {
   "display_name": "Python 3",
   "language": "python",
   "name": "python3"
  },
  "language_info": {
   "codemirror_mode": {
    "name": "ipython",
    "version": 3
   },
   "file_extension": ".py",
   "mimetype": "text/x-python",
   "name": "python",
   "nbconvert_exporter": "python",
   "pygments_lexer": "ipython3",
   "version": "3.6.1"
  }
 },
 "nbformat": 4,
 "nbformat_minor": 2
}
