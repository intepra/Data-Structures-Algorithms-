{
 "cells": [
  {
   "cell_type": "markdown",
   "metadata": {},
   "source": [
    "Implement Programming Exercises 22, 23 and 24 from the Basic Data Structures Chapter of Problem Solving with Algorithms and Data Structures by Brad Miller and David Ranum.\n",
    "\n",
    "Implement a queue using linked lists.\n",
    "Implement a deque using linked lists.\n",
    "\n",
    "Use your own singly linked-list class rather than a Python list to implement the Stack, Queue and Deque classes.\n",
    "\n",
    "When finished, test these updated classes:\n",
    "Test your stack by running the balanced symbol checker from the textbook.\n",
    "Test your queue by running the hot potato simulation from the textbook.\n",
    "Test your deque by running the palindrome checker from the textbook."
   ]
  },
  {
   "cell_type": "code",
   "execution_count": 17,
   "metadata": {
    "collapsed": true
   },
   "outputs": [],
   "source": [
    "class Node:\n",
    "    \n",
    "    def __init__(self,data):\n",
    "        \n",
    "        self.data = data\n",
    "        self.next = None\n",
    "        \n",
    "    def __str__(self):\n",
    "        \n",
    "        return \"Node: \" + str(self.data)\n",
    "    \n",
    "    def __repr__(self):\n",
    "        \n",
    "        return \"Node({0})\".format(self.data)\n",
    "    \n",
    "    def getData(self):\n",
    "        \n",
    "        return self.data\n",
    "    \n",
    "    def getNext(self):\n",
    "        \n",
    "        return self.next\n",
    "    \n",
    "    def setData(self,newdata):\n",
    "        self.data = newdata\n",
    "        \n",
    "    def setNext(self,newnext):\n",
    "        self.next = newnext"
   ]
  },
  {
   "cell_type": "markdown",
   "metadata": {},
   "source": [
    "Implement a stack using linked lists."
   ]
  },
  {
   "cell_type": "code",
   "execution_count": 18,
   "metadata": {
    "collapsed": true
   },
   "outputs": [],
   "source": [
    "class Stack:\n",
    "    \n",
    "    def __init__(self):\n",
    "        self.head = None\n",
    "        self.length = 0\n",
    "        \n",
    "    def __str__(self):\n",
    "        current = self.head\n",
    "        while current is not None:\n",
    "            print(current.getData(), '-')\n",
    "            current = current.getNext()\n",
    "            \n",
    "    def pop(self):\n",
    "        if self.isEmpty():\n",
    "            print (\"Stack is empty\")\n",
    "            return None\n",
    "        temp = self.head.getData()\n",
    "        self.head = self.head.getNext()\n",
    "        self.length -= 1\n",
    "        return temp\n",
    "    \n",
    "    def push(self,data):\n",
    "        new_node = Node(data)\n",
    "        new_node.setNext(self.head)\n",
    "        self.head = new_node\n",
    "        self.length += 1\n",
    "        \n",
    "    def isEmpty(self):\n",
    "        return self.length == 0\n",
    "    \n",
    "    def length_stack(self):\n",
    "        return self.length\n",
    "    "
   ]
  },
  {
   "cell_type": "markdown",
   "metadata": {},
   "source": [
    "Testing the balanced symbol checker for Stack"
   ]
  },
  {
   "cell_type": "code",
   "execution_count": 19,
   "metadata": {},
   "outputs": [
    {
     "name": "stdout",
     "output_type": "stream",
     "text": [
      "True\n"
     ]
    }
   ],
   "source": [
    "def parChecker(symbolString):\n",
    "    s = Stack()\n",
    "    balanced = True\n",
    "    index = 0\n",
    "    while index < len(symbolString) and balanced:\n",
    "        symbol = symbolString[index]\n",
    "        if symbol == \"(\":\n",
    "            s.push(symbol)\n",
    "\n",
    "        else:\n",
    "            if s.isEmpty():\n",
    "                balanced = False\n",
    "\n",
    "            else:\n",
    "                s.pop()\n",
    "\n",
    "        index = index + 1\n",
    "\n",
    "    if balanced and s.isEmpty():\n",
    "        return True\n",
    "    else:\n",
    "        return False\n",
    "\n",
    "print(parChecker('((()))'))"
   ]
  },
  {
   "cell_type": "code",
   "execution_count": 20,
   "metadata": {},
   "outputs": [
    {
     "name": "stdout",
     "output_type": "stream",
     "text": [
      "False\n"
     ]
    }
   ],
   "source": [
    "print(parChecker('(()'))"
   ]
  },
  {
   "cell_type": "markdown",
   "metadata": {},
   "source": [
    "Implement a Queue using linked lists."
   ]
  },
  {
   "cell_type": "code",
   "execution_count": 21,
   "metadata": {
    "collapsed": true
   },
   "outputs": [],
   "source": [
    "class Queue:\n",
    "    \n",
    "    def __init__(self):\n",
    "        self.front = None\n",
    "        self.back = None\n",
    "        self.length = 0\n",
    "        \n",
    "    def enqueue(self,data):\n",
    "        temp = Node(data)\n",
    "        if self.front is None:\n",
    "            self.front = temp\n",
    "            self.back = self.front\n",
    "        else:\n",
    "            self.back.setNext(temp)\n",
    "            self.back = temp\n",
    "        self.length += 1\n",
    "        \n",
    "    def dequeue(self):\n",
    "        if self.isEmpty():\n",
    "            print(\"Queue is empty\")\n",
    "            return None\n",
    "        temp = self.front.getData()\n",
    "        if self.front.getNext() is None:\n",
    "            self.front = None\n",
    "            self.back = None\n",
    "        else:\n",
    "            self.front = self.front.getNext()\n",
    "        self.length -= 1\n",
    "        return temp\n",
    "    \n",
    "    def qprint(self):\n",
    "        if not self.isEmpty():\n",
    "            current = self.front\n",
    "            while current is not None:\n",
    "                print (current.getData(), '->', end=\"\")\n",
    "                current = current.getNext()\n",
    "\n",
    "            print (\"None\")\n",
    "        else:\n",
    "            print (\"Queue is empty\")    \n",
    "\n",
    "            \n",
    "    def isEmpty(self):\n",
    "        return self.length == 0\n",
    "    \n",
    "    def size(self):\n",
    "        return self.length"
   ]
  },
  {
   "cell_type": "markdown",
   "metadata": {},
   "source": [
    "Testing queue by running the hot potato simulation"
   ]
  },
  {
   "cell_type": "code",
   "execution_count": 22,
   "metadata": {},
   "outputs": [
    {
     "name": "stdout",
     "output_type": "stream",
     "text": [
      "Susan\n"
     ]
    }
   ],
   "source": [
    "def hotPotato(namelist, num):\n",
    "    simqueue = Queue()\n",
    "    for name in namelist:\n",
    "        simqueue.enqueue(name)\n",
    "\n",
    "    while simqueue.size() > 1:\n",
    "        for i in range(num):\n",
    "            simqueue.enqueue(simqueue.dequeue())\n",
    "\n",
    "        simqueue.dequeue()\n",
    "\n",
    "    return simqueue.dequeue()\n",
    "\n",
    "print(hotPotato([\"Bill\",\"David\",\"Susan\",\"Jane\",\"Kent\",\"Brad\"],7))"
   ]
  },
  {
   "cell_type": "markdown",
   "metadata": {},
   "source": [
    "Implement a deque using linked lists"
   ]
  },
  {
   "cell_type": "code",
   "execution_count": 23,
   "metadata": {
    "collapsed": true
   },
   "outputs": [],
   "source": [
    "class Deque:\n",
    "    \n",
    "    def __init__(self):\n",
    "        self.head = None\n",
    "        self.tail = None\n",
    "        self.length = 0\n",
    "        \n",
    "    def print_dequeue(self):\n",
    "        current = self.head\n",
    "        while current is not None:\n",
    "            print(current.getData(), '<-> ', end=\"\")\n",
    "            current = current.getNext()\n",
    "            index += 1\n",
    "        \n",
    "    def addFront(self,data):\n",
    "        temp = Node(data)\n",
    "        temp.setNext(self.head)\n",
    "        self.head = temp\n",
    "        if self.tail is None:\n",
    "            self.tail = self.head\n",
    "        self.length += 1\n",
    "        \n",
    "    def removeFront(self):\n",
    "        if self.isEmpty():\n",
    "            print (\"Deque is empty\")\n",
    "            return None\n",
    "        \n",
    "        temp = self.head\n",
    "        self.head = self.head.getNext()\n",
    "        if self.head is None:\n",
    "            self.tail = None\n",
    "        self.length -= 1\n",
    "        return temp.getData()\n",
    "    \n",
    "    def addRear(self, data):\n",
    "        temp = Node(data)\n",
    "        if self.isEmpty():\n",
    "            self.tail = temp\n",
    "            self.head = temp\n",
    "        else:\n",
    "            self.tail.setNext(temp)\n",
    "            self.tail = temp\n",
    "        self.length += 1\n",
    "        \n",
    "    def removeRear(self):\n",
    "        if self.isEmpty():\n",
    "            print (\"Deque is empty\")\n",
    "            return None\n",
    "        if self.size() == 1:\n",
    "            temp = self.tail\n",
    "            self.tail = None\n",
    "            self.head = None\n",
    "            self.length -= 1\n",
    "            return temp.getData()\n",
    "        \n",
    "        current = self.head\n",
    "        while current.getNext().getNext() is not None:\n",
    "            current = current.getNext()\n",
    "            \n",
    "        temp = current.getNext()\n",
    "        self.tail = current\n",
    "        self.tail.setNext(None)\n",
    "        self.length -= 1\n",
    "        return temp.getData()\n",
    "    \n",
    "    def isEmpty(self):\n",
    "        return self.length == 0\n",
    "    \n",
    "    def size(self):\n",
    "        return self.length\n",
    "    \n"
   ]
  },
  {
   "cell_type": "markdown",
   "metadata": {},
   "source": [
    "Testing deque by running the palindrome checker. "
   ]
  },
  {
   "cell_type": "code",
   "execution_count": 24,
   "metadata": {
    "collapsed": true
   },
   "outputs": [],
   "source": [
    "def palchecker(aString):\n",
    "    chardeque = Deque()\n",
    "\n",
    "    for ch in aString:\n",
    "        chardeque.addRear(ch)\n",
    "\n",
    "    stillEqual = True\n",
    "\n",
    "    while chardeque.size() > 1 and stillEqual:\n",
    "        first = chardeque.removeFront()\n",
    "        last = chardeque.removeRear()\n",
    "        if first != last:\n",
    "            stillEqual = False\n",
    "\n",
    "    return stillEqual\n"
   ]
  },
  {
   "cell_type": "code",
   "execution_count": 25,
   "metadata": {},
   "outputs": [
    {
     "name": "stdout",
     "output_type": "stream",
     "text": [
      "False\n"
     ]
    }
   ],
   "source": [
    "print (palchecker(\"iskduej\"))"
   ]
  },
  {
   "cell_type": "code",
   "execution_count": 26,
   "metadata": {},
   "outputs": [
    {
     "name": "stdout",
     "output_type": "stream",
     "text": [
      "True\n"
     ]
    }
   ],
   "source": [
    "print (palchecker(\"toot\"))"
   ]
  },
  {
   "cell_type": "code",
   "execution_count": null,
   "metadata": {
    "collapsed": true
   },
   "outputs": [],
   "source": []
  },
  {
   "cell_type": "code",
   "execution_count": null,
   "metadata": {
    "collapsed": true
   },
   "outputs": [],
   "source": []
  }
 ],
 "metadata": {
  "kernelspec": {
   "display_name": "Python 3",
   "language": "python",
   "name": "python3"
  },
  "language_info": {
   "codemirror_mode": {
    "name": "ipython",
    "version": 3
   },
   "file_extension": ".py",
   "mimetype": "text/x-python",
   "name": "python",
   "nbconvert_exporter": "python",
   "pygments_lexer": "ipython3",
   "version": "3.6.1"
  }
 },
 "nbformat": 4,
 "nbformat_minor": 2
}
