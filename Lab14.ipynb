{
 "cells": [
  {
   "cell_type": "markdown",
   "metadata": {},
   "source": [
    "# Using the buildHeap method, write a sorting function that can sort a list in O(nlogn) time."
   ]
  },
  {
   "cell_type": "code",
   "execution_count": 2,
   "metadata": {
    "collapsed": true
   },
   "outputs": [],
   "source": [
    "class BinaryHeap():\n",
    "    \n",
    "    def __init__(self):\n",
    "        self.heaplist = [0]\n",
    "        self.current_size = 0\n",
    "        \n",
    "    def perc_up(self, i): \n",
    "        while i//2 > 0:\n",
    "            if self.heaplist[i] < self.heaplist[i//2]:\n",
    "                self.heaplist[i], self.heaplist[i//2] = self.heaplist[i//2], self.heaplist[i]\n",
    "            i = i //2\n",
    "        \n",
    "    def insert(self, k):\n",
    "        self.heaplist.append(k)  \n",
    "        self.current_size += 1  #increase tree size by 1\n",
    "        self.perc_up(self.current_size)  \n",
    "        \n",
    "    def perc_down(self, i):\n",
    "        while (i * 2) <= self.current_size:\n",
    "                mc = self.min_child(i)\n",
    "                if self.heaplist[i] > self.heaplist[mc]:\n",
    "                    self.heaplist[i], self.heaplist[mc] = self.heaplist[mc], self.heaplist[i]\n",
    "                i = mc\n",
    "    def min_child(self, i):\n",
    "        if i * 2 + 1 > self.current_size:\n",
    "            return i * 2\n",
    "        else:\n",
    "            if self.heaplist[i*2] < self.heaplist[i*2+1]:\n",
    "                return i * 2\n",
    "            else:\n",
    "                return i * 2 + 1\n",
    "            \n",
    "    def del_min(self): # delete and return minimum value\n",
    "        retval = self.heaplist[1] # retval is short for return val\n",
    "        self.heaplist[1] = self.heaplist[self.current_size]\n",
    "        self.current_size -= 1 # now have 1 less item in the tree\n",
    "        self.heaplist.pop()\n",
    "        self.perc_down(1)\n",
    "        return retval\n",
    "    #build a new heap from a list of keys\n",
    "    def build_heap(self, alist): # given list of values to build the heap\n",
    "        i = len(alist) // 2\n",
    "        self.current_size = len(alist)\n",
    "        self.heaplist = [0] + alist[:]\n",
    "        while i > 0:\n",
    "            self.perc_down(i)\n",
    "            i -= 1\n",
    "  "
   ]
  },
  {
   "cell_type": "code",
   "execution_count": 3,
   "metadata": {
    "collapsed": true
   },
   "outputs": [],
   "source": [
    "bh = BinaryHeap()"
   ]
  },
  {
   "cell_type": "code",
   "execution_count": 4,
   "metadata": {},
   "outputs": [
    {
     "data": {
      "text/plain": [
       "0"
      ]
     },
     "execution_count": 4,
     "metadata": {},
     "output_type": "execute_result"
    }
   ],
   "source": [
    "bh.current_size"
   ]
  },
  {
   "cell_type": "code",
   "execution_count": 5,
   "metadata": {
    "collapsed": true
   },
   "outputs": [],
   "source": [
    "bh.insert(10)\n",
    "bh.insert(7)\n",
    "bh.insert(1)"
   ]
  },
  {
   "cell_type": "code",
   "execution_count": 6,
   "metadata": {},
   "outputs": [
    {
     "data": {
      "text/plain": [
       "3"
      ]
     },
     "execution_count": 6,
     "metadata": {},
     "output_type": "execute_result"
    }
   ],
   "source": [
    "bh.current_size"
   ]
  },
  {
   "cell_type": "code",
   "execution_count": 7,
   "metadata": {},
   "outputs": [
    {
     "data": {
      "text/plain": [
       "[0, 1, 10, 7]"
      ]
     },
     "execution_count": 7,
     "metadata": {},
     "output_type": "execute_result"
    }
   ],
   "source": [
    "bh.heaplist"
   ]
  },
  {
   "cell_type": "code",
   "execution_count": 12,
   "metadata": {},
   "outputs": [
    {
     "data": {
      "text/plain": [
       "[0, 2, 5, 4, 7, 6]"
      ]
     },
     "execution_count": 12,
     "metadata": {},
     "output_type": "execute_result"
    }
   ],
   "source": [
    "alist= [5,2,4,7,6]\n",
    "bh = BinaryHeap()\n",
    "bh.build_heap(alist)\n",
    "\n",
    "bh.heaplist"
   ]
  },
  {
   "cell_type": "code",
   "execution_count": 13,
   "metadata": {
    "collapsed": true
   },
   "outputs": [],
   "source": [
    "#a sorting function that can sort a list in O(nlogn) time\n",
    "#Given an array of data, first, we build a heap and then turn it into a sorted list by \n",
    "#calling deleteMin. The running time of the algorithm is O(n log n).\n",
    "def bh_sorting(_alist):\n",
    "    bh = BinaryHeap()\n",
    "    #build min heap\n",
    "    bh.build_heap(_alist)         \n",
    "    _alist = bh.heaplist\n",
    "    # swap the min element with the n element and restore the heap and append\n",
    "    #it into the list and repeat this process \n",
    "    i = 1\n",
    "    sorted_list = []\n",
    "    while i < len(_alist):\n",
    "        least = bh.del_min()\n",
    "        sorted_list.append(least)   \n",
    "    return sorted_list\n",
    "    "
   ]
  },
  {
   "cell_type": "code",
   "execution_count": 14,
   "metadata": {
    "collapsed": true
   },
   "outputs": [],
   "source": [
    "#testing our sorting function\n",
    "a = [8,45,7,32,56,22,10,23,6]"
   ]
  },
  {
   "cell_type": "code",
   "execution_count": 15,
   "metadata": {},
   "outputs": [
    {
     "name": "stdout",
     "output_type": "stream",
     "text": [
      "[6, 7, 8, 10, 22, 23, 32, 45, 56]\n"
     ]
    }
   ],
   "source": [
    "print (bh_sorting(a))"
   ]
  },
  {
   "cell_type": "markdown",
   "metadata": {},
   "source": [
    "The sorting function that can sort a list using binary heap in O(nlogn) time:\n",
    "1- Build min-heap from unordered array\n",
    "2- Find min element _alist[1]\n",
    "3- Swap the elements _alist[n] with _alist[1], now the min element is at the end of the array \n",
    "4- discard node n from the heap by decreaminting heap size so the heap become n-1 in size from n in the first iteration \n",
    "5- the new root after the swap may violate min heap property but the children are min heap but that one node possible violate we can run m fix it and then go back to find min element [1]"
   ]
  },
  {
   "cell_type": "markdown",
   "metadata": {
    "collapsed": true
   },
   "source": [
    "## The running time is O(NLogN). Here is why:<br>\n",
    "\n",
    "To build a binary heap from a list, it takes linear time O(N). <br><br>\n",
    "That is because given the binary heap, the number of nodes is 2^h where h is the height of the heap tree and equal to log(N). When we call perc_down, we<br><br> start from h-1. Then move up to h-2 till we get to the root. So over all, the number of elements swapped in worst case is 2^h-1 + 2^h-2 + 2^h-3...2^0. <br><br>\n",
    "When we simplify, we get 2^h(1/2+1/4+1/9....1/log(h)) which gives 2^h + h. Since h=log(N), this means our running time is N + Log(N) = O(N). <br><br>\n",
    "After we build the binary heap, The heapsorting procedure takes time O.n log n,viewing a heap as a tree. The Buildminheap procedure, which runs in linear time, produces a minheap\n",
    "from an unordered input array. Since deleting a min heap in O(log n) time, deleting the min n times leads to O(n*log n) time, append at constant time o(1)--> O(nlogn). So when we process all the elements, we spent<br><br> O(N*LogN) times. So summing up, it takes O(N) + O(N*LogN) --> O(NLogN) time to run the heap sort algorithim.<br>"
   ]
  },
  {
   "cell_type": "code",
   "execution_count": null,
   "metadata": {
    "collapsed": true
   },
   "outputs": [],
   "source": []
  },
  {
   "cell_type": "code",
   "execution_count": null,
   "metadata": {
    "collapsed": true
   },
   "outputs": [],
   "source": []
  }
 ],
 "metadata": {
  "kernelspec": {
   "display_name": "Python 3",
   "language": "python",
   "name": "python3"
  },
  "language_info": {
   "codemirror_mode": {
    "name": "ipython",
    "version": 3
   },
   "file_extension": ".py",
   "mimetype": "text/x-python",
   "name": "python",
   "nbconvert_exporter": "python",
   "pygments_lexer": "ipython3",
   "version": "3.6.1"
  }
 },
 "nbformat": 4,
 "nbformat_minor": 2
}
